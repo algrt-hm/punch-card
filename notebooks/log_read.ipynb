{
 "cells": [
  {
   "cell_type": "code",
   "execution_count": 28,
   "id": "f7a9b660-0349-43ea-9f49-4cc7c721e76a",
   "metadata": {},
   "outputs": [],
   "source": [
    "import pandas as pd\n",
    "import sqlite3\n",
    "\n",
    "# Replace 'your_database.db' with the path to your SQLite database file\n",
    "database_path = '../punch-card.sqlite3'\n",
    "\n",
    "# Create a connection to the database\n",
    "conn = sqlite3.connect(database_path)\n",
    "\n",
    "# Read the SQL query into a DataFrame\n",
    "df_a = pd.read_sql('SELECT * FROM timer_log ORDER BY ts', conn)\n",
    "df_b = pd.read_sql('SELECT * FROM timer_state', conn)\n",
    "\n",
    "# Remember to close the connection when done\n",
    "conn.close()"
   ]
  },
  {
   "cell_type": "code",
   "execution_count": 29,
   "id": "a9358c4b-961f-447e-99fa-7b05d746960a",
   "metadata": {},
   "outputs": [],
   "source": [
    "# For a consistant state we must have the number of stops equal the number of starts\n",
    "counts_series = df_a.state.value_counts()"
   ]
  },
  {
   "cell_type": "code",
   "execution_count": 30,
   "id": "69301d44-9599-4b01-9a90-8da542349719",
   "metadata": {},
   "outputs": [
    {
     "data": {
      "text/plain": [
       "state\n",
       "start    166\n",
       "stop     165\n",
       "Name: count, dtype: int64"
      ]
     },
     "execution_count": 30,
     "metadata": {},
     "output_type": "execute_result"
    }
   ],
   "source": [
    "counts_series"
   ]
  },
  {
   "cell_type": "code",
   "execution_count": 35,
   "id": "7cfbdb1a-4353-4cde-a1b3-43aa275f0674",
   "metadata": {},
   "outputs": [
    {
     "name": "stdout",
     "output_type": "stream",
     "text": [
      "{'Udacity - DE with Azure': 'stop', 'General programming admin/fun': 'stop', 'Programing - punch-card': 'stop', 'Job/interview prep': 'stop', 'Personal finance': 'stop', 'Investment research': 'stop', 'ibiab': 'stop', 'KPIs': 'stop', 'Typing notes': 'stop', 'Admin/organising': 'stop', 'dbt course': 'stop', 'CS50-web': 'stop', 'Admin - boring': 'stop', 'Driving theory': 'stop', 'Project Ask': 'stop', 'Project - UK income tax model': 'stop', 'algrt.hm': 'stop', 'substack': 'stop'}\n"
     ]
    }
   ],
   "source": [
    "# Go through the log ... if we find something that starts and doesn't stop, mention it\n",
    "\n",
    "states = dict()\n",
    "\n",
    "# See if we are left with any starts\n",
    "for idx, row in df_a.iterrows():\n",
    "    if row.label not in states:\n",
    "        states[row.label] = row.state\n",
    "    else:\n",
    "        if states[row.label] != row.state:\n",
    "            states[row.label] = row.state\n",
    "\n",
    "# No output ... everything in stopped state which is what we want\n",
    "for k,v in states.items():\n",
    "    if v == 'start':\n",
    "        print(k,v)"
   ]
  },
  {
   "cell_type": "code",
   "execution_count": 25,
   "id": "c2f95157-f040-471b-90ef-1e57dc245319",
   "metadata": {},
   "outputs": [
    {
     "data": {
      "text/plain": [
       "False"
      ]
     },
     "execution_count": 25,
     "metadata": {},
     "output_type": "execute_result"
    }
   ],
   "source": [
    "counts_series['start'] == counts_series['stop']"
   ]
  },
  {
   "cell_type": "code",
   "execution_count": 16,
   "id": "8f0c8976-0115-4edf-8861-1438a2e6e74b",
   "metadata": {},
   "outputs": [
    {
     "data": {
      "text/plain": [
       "0       3.354427\n",
       "1     108.039221\n",
       "2       0.581781\n",
       "3       1.820335\n",
       "4       2.997361\n",
       "5      14.852527\n",
       "6       8.390088\n",
       "7       0.441800\n",
       "8       0.998519\n",
       "9       3.782534\n",
       "10      2.718719\n",
       "11      0.455078\n",
       "12     35.488008\n",
       "13      1.230223\n",
       "14      1.171729\n",
       "15      4.853814\n",
       "Name: elapsed, dtype: float64"
      ]
     },
     "execution_count": 16,
     "metadata": {},
     "output_type": "execute_result"
    }
   ],
   "source": [
    "(df_b.elapsed \n",
    " / 60**2 # mins, hours\n",
    ")"
   ]
  },
  {
   "cell_type": "code",
   "execution_count": 15,
   "id": "2ba8de62-7331-4511-9392-ea1641172c27",
   "metadata": {},
   "outputs": [
    {
     "data": {
      "text/plain": [
       "0      12075.936585\n",
       "1     388941.196433\n",
       "2       2094.412833\n",
       "3       6553.205258\n",
       "4      10790.501257\n",
       "5      53469.097459\n",
       "6      30204.317598\n",
       "7       1590.479921\n",
       "8       3594.670017\n",
       "9      13617.122159\n",
       "10      9787.388802\n",
       "11      1638.280196\n",
       "12    127756.827279\n",
       "13      4428.801524\n",
       "14      4218.225382\n",
       "15     17473.730559\n",
       "Name: elapsed, dtype: float64"
      ]
     },
     "execution_count": 15,
     "metadata": {},
     "output_type": "execute_result"
    }
   ],
   "source": [
    "df_b.elapsed"
   ]
  },
  {
   "cell_type": "code",
   "execution_count": null,
   "id": "a5869d93-92ab-494a-920e-733bee817bb3",
   "metadata": {},
   "outputs": [],
   "source": []
  }
 ],
 "metadata": {
  "kernelspec": {
   "display_name": "punch-card",
   "language": "python",
   "name": "punch-card"
  },
  "language_info": {
   "codemirror_mode": {
    "name": "ipython",
    "version": 3
   },
   "file_extension": ".py",
   "mimetype": "text/x-python",
   "name": "python",
   "nbconvert_exporter": "python",
   "pygments_lexer": "ipython3",
   "version": "3.11.2"
  }
 },
 "nbformat": 4,
 "nbformat_minor": 5
}
